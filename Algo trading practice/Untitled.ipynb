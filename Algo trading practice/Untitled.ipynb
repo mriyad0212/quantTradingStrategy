{
 "cells": [
  {
   "cell_type": "markdown",
   "id": "b5f894f2-0491-44d1-9ac7-8d9022bb477e",
   "metadata": {},
   "source": [
    "## Libraries"
   ]
  },
  {
   "cell_type": "code",
   "execution_count": 14,
   "id": "3b9675c7-a548-4b98-9a3d-d43703b2f727",
   "metadata": {},
   "outputs": [
    {
     "name": "stdout",
     "output_type": "stream",
     "text": [
      "Requirement already satisfied: xlsxwriter in c:\\users\\mikha\\appdata\\local\\programs\\python\\python313\\lib\\site-packages (3.2.3)\n"
     ]
    },
    {
     "name": "stderr",
     "output_type": "stream",
     "text": [
      "\n",
      "[notice] A new release of pip is available: 24.3.1 -> 25.1.1\n",
      "[notice] To update, run: python.exe -m pip install --upgrade pip\n"
     ]
    }
   ],
   "source": [
    "import numpy as np \n",
    "import pandas as pd \n",
    "import requests   ## allows API HTTP calls \n",
    "!pip install xlsxwriter\n",
    "import math "
   ]
  },
  {
   "cell_type": "markdown",
   "id": "c5d859c6-c2dc-40eb-bcbe-3bd184b84db3",
   "metadata": {},
   "source": [
    "## Importing list of stocks "
   ]
  },
  {
   "cell_type": "code",
   "execution_count": null,
   "id": "54267e5c-1701-4400-a50b-a5424e3a976b",
   "metadata": {},
   "outputs": [],
   "source": []
  }
 ],
 "metadata": {
  "kernelspec": {
   "display_name": "Python 3 (ipykernel)",
   "language": "python",
   "name": "python3"
  },
  "language_info": {
   "codemirror_mode": {
    "name": "ipython",
    "version": 3
   },
   "file_extension": ".py",
   "mimetype": "text/x-python",
   "name": "python",
   "nbconvert_exporter": "python",
   "pygments_lexer": "ipython3",
   "version": "3.13.2"
  }
 },
 "nbformat": 4,
 "nbformat_minor": 5
}
